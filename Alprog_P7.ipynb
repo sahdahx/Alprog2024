{
  "nbformat": 4,
  "nbformat_minor": 0,
  "metadata": {
    "colab": {
      "provenance": [],
      "authorship_tag": "ABX9TyMUUZNlVZ9WYEJD4Gv9FQ7O",
      "include_colab_link": true
    },
    "kernelspec": {
      "name": "python3",
      "display_name": "Python 3"
    },
    "language_info": {
      "name": "python"
    }
  },
  "cells": [
    {
      "cell_type": "markdown",
      "metadata": {
        "id": "view-in-github",
        "colab_type": "text"
      },
      "source": [
        "<a href=\"https://colab.research.google.com/github/sahdahx/Alprog2024/blob/main/Alprog_P7.ipynb\" target=\"_parent\"><img src=\"https://colab.research.google.com/assets/colab-badge.svg\" alt=\"Open In Colab\"/></a>"
      ]
    },
    {
      "cell_type": "markdown",
      "source": [
        "# **Algoritma dan Pemrogaman untuk Statistika, 30 April 2024**\n",
        "Tugas individu"
      ],
      "metadata": {
        "id": "ZzZ5qZcwTuoX"
      }
    },
    {
      "cell_type": "code",
      "execution_count": null,
      "metadata": {
        "colab": {
          "base_uri": "https://localhost:8080/"
        },
        "id": "PMA-d_bJPJcM",
        "outputId": "84df4f84-bbf0-4a55-b48e-cbee5db3101a"
      },
      "outputs": [
        {
          "output_type": "stream",
          "name": "stdout",
          "text": [
            "Masukkan nilai k (banyaknya data tertinggi/terendah yang akan dibuang): 3\n",
            "Trimmed Mean: 3.7777777777777777\n",
            "Winsorized Mean: 3.6666666666666665\n"
          ]
        }
      ],
      "source": [
        "# Inisialisasi variabel global untuk menyimpan hasil trimmed mean dan winsorized mean\n",
        "trimmed_mean_result = None\n",
        "winsorized_mean_result = None\n",
        "\n",
        "def calculate_trimmed_and_winsorized_mean(*data):\n",
        "    global trimmed_mean_result, winsorized_mean_result\n",
        "\n",
        "    # Meminta input nilai k\n",
        "    k = int(input(\"Masukkan nilai k (banyaknya data tertinggi/terendah yang akan dibuang): \"))\n",
        "\n",
        "    # Cek apakah nilai k melebihi setengah dari jumlah data\n",
        "    if k >= len(data) / 2:\n",
        "        print(\"Error: Nilai k tidak valid.\")\n",
        "        return\n",
        "\n",
        "    # Mengurutkan data\n",
        "    sorted_data = sorted(data)\n",
        "\n",
        "    # Menghitung trimmed mean\n",
        "    trimmed_data = sorted_data[k:len(data)-k]\n",
        "    trimmed_mean = sum(trimmed_data) / len(trimmed_data)\n",
        "\n",
        "    # Menghitung winsorized mean\n",
        "    winsorized_data = sorted_data[:]\n",
        "    for i in range(k):\n",
        "        winsorized_data[i] = sorted_data[k]\n",
        "        winsorized_data[-(i+1)] = sorted_data[-(k+1)]\n",
        "    winsorized_mean = sum(winsorized_data) / len(winsorized_data)\n",
        "\n",
        "    # Menyimpan hasil ke dalam variabel global\n",
        "    trimmed_mean_result = trimmed_mean\n",
        "    winsorized_mean_result = winsorized_mean\n",
        "\n",
        "    # Menampilkan hasil\n",
        "    print(\"Trimmed Mean:\", trimmed_mean)\n",
        "    print(\"Winsorized Mean:\", winsorized_mean)\n",
        "\n",
        "# Contoh penggunaan\n",
        "data = [1, 2, 3, 2, 2, 4, 5, 8, 4, 3, 9, 6, 4, 5, 4]\n",
        "calculate_trimmed_and_winsorized_mean(*data)\n",
        "\n",
        "# Masukkan nilai k (banyaknya data tertinggi/terendah yang akan dibuang): 2\n",
        "# Trimmed Mean: 4.0\n",
        "# Winsorized Mean: 4.533333333333333"
      ]
    }
  ]
}