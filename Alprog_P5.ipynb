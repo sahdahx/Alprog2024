{
  "nbformat": 4,
  "nbformat_minor": 0,
  "metadata": {
    "colab": {
      "provenance": [],
      "authorship_tag": "ABX9TyPGRaGjW69Jf4zgKovvk4NT",
      "include_colab_link": true
    },
    "kernelspec": {
      "name": "python3",
      "display_name": "Python 3"
    },
    "language_info": {
      "name": "python"
    }
  },
  "cells": [
    {
      "cell_type": "markdown",
      "metadata": {
        "id": "view-in-github",
        "colab_type": "text"
      },
      "source": [
        "<a href=\"https://colab.research.google.com/github/sahdahx/Alprog2024/blob/main/Alprog_P5.ipynb\" target=\"_parent\"><img src=\"https://colab.research.google.com/assets/colab-badge.svg\" alt=\"Open In Colab\"/></a>"
      ]
    },
    {
      "cell_type": "markdown",
      "source": [
        "# **Algoritma dan Pemrogaman untuk Statistika, 26 Maret 2024**\n",
        "Tugas kelompok nomor 6"
      ],
      "metadata": {
        "id": "i9vuFDEqP20V"
      }
    },
    {
      "cell_type": "code",
      "execution_count": null,
      "metadata": {
        "colab": {
          "base_uri": "https://localhost:8080/"
        },
        "id": "wo5dYaggPlY7",
        "outputId": "8ba0fb68-0f19-4f1a-9d38-65eea6759ef3"
      },
      "outputs": [
        {
          "output_type": "stream",
          "name": "stdout",
          "text": [
            "Titik (2, 2, 4) tergolong cluster A.\n",
            "Titik (1, -3, 5) tergolong cluster A.\n"
          ]
        }
      ],
      "source": [
        "import math\n",
        "\n",
        "def hitung_jarak(titik1, titik2):\n",
        "  \"\"\"Fungsi untuk menghitung jarak antara dua titik.\"\"\"\n",
        "  return math.sqrt(sum((x-y) ** 2 for x, y in zip(titik1, titik2)))\n",
        "\n",
        "def klasifikasi_cluster(titik, pusat_cluster):\n",
        "  \"\"\"Fungsi untuk mengklasifikasikan sebuah titik ke sebuah cluster berdasarkan pusat-pusat cluster terdekat\"\"\"\n",
        "  jarak_minimum = float('inf')\n",
        "  cluster_terdekat = None\n",
        "  for cluster, pusat in pusat_cluster.items():\n",
        "    jarak_ke_pusat = hitung_jarak(titik, pusat)\n",
        "    if jarak_ke_pusat < jarak_minimum:\n",
        "      jarak_minimum = jarak_ke_pusat\n",
        "      cluster_terdekat = cluster\n",
        "      return cluster_terdekat\n",
        "\n",
        "# mendefinisikan pusat-pusat cluster\n",
        "pusat_cluster = {'A': (2,1,3), 'B': (1,-4,6), 'C': (-2,3,-2)}\n",
        "\n",
        "# titik-titik contoh\n",
        "titik_contoh = [(2,2,4), (1,-3,5)]\n",
        "\n",
        "for titik in titik_contoh:\n",
        "  cluster = klasifikasi_cluster(titik, pusat_cluster)\n",
        "  print(f\"Titik {titik} tergolong cluster {cluster}.\")"
      ]
    }
  ]
}