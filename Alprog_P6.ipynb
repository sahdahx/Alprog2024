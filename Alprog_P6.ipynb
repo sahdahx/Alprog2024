{
  "nbformat": 4,
  "nbformat_minor": 0,
  "metadata": {
    "colab": {
      "provenance": [],
      "authorship_tag": "ABX9TyOcTLzpcIL710FnNS2rbrY7",
      "include_colab_link": true
    },
    "kernelspec": {
      "name": "python3",
      "display_name": "Python 3"
    },
    "language_info": {
      "name": "python"
    }
  },
  "cells": [
    {
      "cell_type": "markdown",
      "metadata": {
        "id": "view-in-github",
        "colab_type": "text"
      },
      "source": [
        "<a href=\"https://colab.research.google.com/github/sahdahx/Alprog2024/blob/main/Alprog_P6.ipynb\" target=\"_parent\"><img src=\"https://colab.research.google.com/assets/colab-badge.svg\" alt=\"Open In Colab\"/></a>"
      ]
    },
    {
      "cell_type": "markdown",
      "source": [
        "# **Algoritma dan Pemrogaman untuk Statistika, 26 Maret 2024**"
      ],
      "metadata": {
        "id": "jVBhgDgDJmJn"
      }
    },
    {
      "cell_type": "code",
      "execution_count": null,
      "metadata": {
        "colab": {
          "base_uri": "https://localhost:8080/"
        },
        "id": "asM0rIXITa2G",
        "outputId": "3d9db1a3-3345-45c2-ea98-03a6dcd5dbe0"
      },
      "outputs": [
        {
          "output_type": "stream",
          "name": "stdout",
          "text": [
            "Masukkan tingkat kepercayaan (0.10 atau 0.05): 0.05\n",
            "Masukkan kesalahan absolut yang dapat ditoleransi (0 < d < 1): 0.0009\n",
            "Masukkan proporsi populasi (0 < p < 1): 0.2323213\n",
            "Ukuran sampel yang diperlukan: 845855\n"
          ]
        }
      ],
      "source": [
        "import math\n",
        "\n",
        "def calculate_sample_size(alpha, d, p):\n",
        "    z = {0.10: 1.645, 0.05: 1.96}\n",
        "    return math.ceil((z[alpha] ** 2 * p * (1 - p)) / (d ** 2))\n",
        "\n",
        "alpha = float(input(\"Masukkan tingkat kepercayaan (0.10 atau 0.05): \"))\n",
        "d = float(input(\"Masukkan kesalahan absolut yang dapat ditoleransi (0 < d < 1): \"))\n",
        "p = float(input(\"Masukkan proporsi populasi (0 < p < 1): \"))\n",
        "\n",
        "sample_size = calculate_sample_size(alpha, d, p)\n",
        "print(\"Ukuran sampel yang diperlukan:\", sample_size)\n"
      ]
    },
    {
      "cell_type": "markdown",
      "source": [
        "# Pertemuan 6: Perulangan (loop)\n",
        "\n"
      ],
      "metadata": {
        "id": "Q08PNIX4Jn6t"
      }
    },
    {
      "cell_type": "code",
      "source": [
        "# FOR LOOP\n",
        "\n",
        "# list\n",
        "genap = [0,2,4,6,8]\n",
        "for i in genap:\n",
        "  print(f\"i sekarang -> {i}\")\n",
        "print(\"akhir program 1\")\n",
        "\n",
        "# range\n",
        "r1 = range(4)\n",
        "for i in r:\n",
        "  print(f\"r1 sekarang -> {i}\")\n",
        "print(\"akhir program 2\")\n",
        "\n",
        "# range dengan batas\n",
        "r2 = range(1,3)\n",
        "for i in r2:\n",
        "  print(f\"r2 sekarang -> {i}\")\n",
        "print(\"akhir program 3\")\n",
        "\n",
        "# string\n",
        "data_str = \"aku cantik\"\n",
        "for huruf in data_str:\n",
        "  print(huruf)\n",
        "print(\"akhir program 4\")"
      ],
      "metadata": {
        "colab": {
          "base_uri": "https://localhost:8080/"
        },
        "id": "txQXcpU9Jw0G",
        "outputId": "5bb1f3ad-a1b0-4b45-c427-a15252eb8f2d"
      },
      "execution_count": null,
      "outputs": [
        {
          "output_type": "stream",
          "name": "stdout",
          "text": [
            "i sekarang -> 0\n",
            "i sekarang -> 2\n",
            "i sekarang -> 4\n",
            "i sekarang -> 6\n",
            "i sekarang -> 8\n",
            "akhir program 1\n",
            "r1 sekarang -> 0\n",
            "r1 sekarang -> 1\n",
            "r1 sekarang -> 2\n",
            "r1 sekarang -> 3\n",
            "r1 sekarang -> 4\n",
            "r1 sekarang -> 5\n",
            "r1 sekarang -> 6\n",
            "r1 sekarang -> 7\n",
            "akhir program 2\n",
            "r2 sekarang -> 1\n",
            "r2 sekarang -> 2\n",
            "akhir program 3\n",
            "a\n",
            "k\n",
            "u\n",
            " \n",
            "c\n",
            "a\n",
            "n\n",
            "t\n",
            "i\n",
            "k\n",
            "akhir program 4\n"
          ]
        }
      ]
    },
    {
      "cell_type": "code",
      "source": [
        "# WHILE LOOP\n",
        "\n",
        "angka = 0\n",
        "while angka < 5:\n",
        "  angka += 1\n",
        "  print(f\"angka sekarang = {angka}\")\n",
        "  print(\"sahda dari produ Statistika\")\n",
        "print(\"akhir program\")"
      ],
      "metadata": {
        "colab": {
          "base_uri": "https://localhost:8080/"
        },
        "id": "dt_TQe3yNJu_",
        "outputId": "73b57b38-77a7-4ff3-e5a4-db72f9a89d61"
      },
      "execution_count": null,
      "outputs": [
        {
          "output_type": "stream",
          "name": "stdout",
          "text": [
            "angka sekarang = 1\n",
            "sahda dari produ Statistika\n",
            "angka sekarang = 2\n",
            "sahda dari produ Statistika\n",
            "angka sekarang = 3\n",
            "sahda dari produ Statistika\n",
            "angka sekarang = 4\n",
            "sahda dari produ Statistika\n",
            "angka sekarang = 5\n",
            "sahda dari produ Statistika\n",
            "akhir program\n"
          ]
        }
      ]
    },
    {
      "cell_type": "code",
      "source": [
        "# CONTINUE, PASS, BREAK\n",
        "\n",
        "print(\"~~~~~~~~~~~~~PASS~~~~~~~~~~~~~\")\n",
        "angka = 0\n",
        "while angka < 5:\n",
        "  angka += 1\n",
        "  if angka == 2:\n",
        "    pass # ini tidak akan dieksekusi\n",
        "    print(\"keren!\")\n",
        "  print(angka)\n",
        "\n",
        "print(\"~~~~~~~~~~~~~CONTINUE~~~~~~~~~~~~~\")\n",
        "angka = 0\n",
        "print(f\"angka saat ini = {angka}\")\n",
        "\n",
        "while angka < 5:\n",
        "    angka += 1\n",
        "    print(f\"angka saat ini = {angka}\")\n",
        "\n",
        "    if angka == 3:\n",
        "        print(\"nice!\")\n",
        "    print(\"keren\")\n",
        "\n",
        "print(\"~~~~~~~~~~~~~BREAK~~~~~~~~~~~~~\")\n",
        "data_int = int(input(\"hitung sampai = \"))\n",
        "angka = 0\n",
        "\n",
        "# while True:\n",
        "#   angka += 1\n",
        "#   print(f\"count = {angka}\")\n",
        "\n",
        "# if angka == 4:\n",
        "#   print(\"bagus!\")\n",
        "#   break"
      ],
      "metadata": {
        "colab": {
          "base_uri": "https://localhost:8080/"
        },
        "id": "kupxXETsXM4s",
        "outputId": "687d7031-b42f-4b04-9d73-525280d3f87f"
      },
      "execution_count": null,
      "outputs": [
        {
          "name": "stdout",
          "output_type": "stream",
          "text": [
            "~~~~~~~~~~~~~PASS~~~~~~~~~~~~~\n",
            "1\n",
            "keren!\n",
            "2\n",
            "3\n",
            "4\n",
            "5\n",
            "~~~~~~~~~~~~~CONTINUE~~~~~~~~~~~~~\n",
            "angka saat ini = 0\n",
            "angka saat ini = 1\n",
            "keren\n",
            "angka saat ini = 2\n",
            "keren\n",
            "angka saat ini = 3\n",
            "nice!\n",
            "keren\n",
            "angka saat ini = 4\n",
            "keren\n",
            "angka saat ini = 5\n",
            "keren\n",
            "~~~~~~~~~~~~~BREAK~~~~~~~~~~~~~\n",
            "hitung sampai = 6\n"
          ]
        }
      ]
    },
    {
      "cell_type": "markdown",
      "source": [
        "# Diskusi 5"
      ],
      "metadata": {
        "id": "_ILZn0yAOhhu"
      }
    },
    {
      "cell_type": "code",
      "source": [
        "# P1 Bilangan Persegi Panjang\n",
        "\n",
        "def jumlah_barisan_persegi_panjang(n):\n",
        "    total = 0\n",
        "    for i in range(1, n+1):\n",
        "        bilangan = i * (i + 1)\n",
        "        total += bilangan\n",
        "    return total\n",
        "\n",
        "# Memasukkan jumlah suku (n)\n",
        "n = int(input(\"Masukkan jumlah suku pertama yang ingin dihitung: \"))\n",
        "\n",
        "# Menghitung jumlahan n suku pertama\n",
        "hasil = jumlah_barisan_persegi_panjang(n)\n",
        "\n",
        "# Menampilkan hasil\n",
        "print(f\"Jumlah {n} suku pertama dari barisan bilangan persegi panjang adalah: {hasil}\")\n"
      ],
      "metadata": {
        "colab": {
          "base_uri": "https://localhost:8080/"
        },
        "id": "sZkquDwVOmpZ",
        "outputId": "6885b4de-9c5c-4f04-c162-659fae4c407f"
      },
      "execution_count": null,
      "outputs": [
        {
          "output_type": "stream",
          "name": "stdout",
          "text": [
            "Masukkan jumlah suku pertama yang ingin dihitung: 8\n",
            "Jumlah 8 suku pertama dari barisan bilangan persegi panjang adalah: 240\n"
          ]
        }
      ]
    },
    {
      "cell_type": "code",
      "source": [
        "# P2 Tabel Bilangan Kuadratik\n",
        "\n",
        "for bilangan in range(1,26, 2):\n",
        "  bilangan_kuadrat = (bilangan**2)\n",
        "  print(f\"bilangan kuadrat dari {bilangan} adalah {bilangan_kuadrat}\")"
      ],
      "metadata": {
        "colab": {
          "base_uri": "https://localhost:8080/"
        },
        "id": "WIIdxTbDRd0L",
        "outputId": "48ea0182-9837-4440-e1aa-7b782b374801"
      },
      "execution_count": null,
      "outputs": [
        {
          "output_type": "stream",
          "name": "stdout",
          "text": [
            "bilangan kuadrat dari 1 adalah 1\n",
            "bilangan kuadrat dari 3 adalah 9\n",
            "bilangan kuadrat dari 5 adalah 25\n",
            "bilangan kuadrat dari 7 adalah 49\n",
            "bilangan kuadrat dari 9 adalah 81\n",
            "bilangan kuadrat dari 11 adalah 121\n",
            "bilangan kuadrat dari 13 adalah 169\n",
            "bilangan kuadrat dari 15 adalah 225\n",
            "bilangan kuadrat dari 17 adalah 289\n",
            "bilangan kuadrat dari 19 adalah 361\n",
            "bilangan kuadrat dari 21 adalah 441\n",
            "bilangan kuadrat dari 23 adalah 529\n",
            "bilangan kuadrat dari 25 adalah 625\n"
          ]
        }
      ]
    },
    {
      "cell_type": "code",
      "source": [
        "# P3 Memilih Bilangan\n",
        "\n",
        "numbers =[12,75,150,215,160,165,225,180,145,525,50]\n",
        "for number in numbers:\n",
        "  if number % 15 == 0:\n",
        "    print(f\"bilangan-bilangan yang habis dibagi 15 = {number}\")"
      ],
      "metadata": {
        "colab": {
          "base_uri": "https://localhost:8080/"
        },
        "id": "vpmY6Tl4Plpw",
        "outputId": "ca10a08a-dd03-4a5a-87f3-d75c858917d7"
      },
      "execution_count": null,
      "outputs": [
        {
          "output_type": "stream",
          "name": "stdout",
          "text": [
            "bilangan yang habis dibagi 15 = 75\n",
            "bilangan yang habis dibagi 15 = 150\n",
            "bilangan yang habis dibagi 15 = 165\n",
            "bilangan yang habis dibagi 15 = 225\n",
            "bilangan yang habis dibagi 15 = 180\n",
            "bilangan yang habis dibagi 15 = 525\n"
          ]
        }
      ]
    },
    {
      "cell_type": "code",
      "source": [
        "# P4 Bilinki idi limi\n",
        "\n",
        "normal = \"Balonku ada lima rupa-rupa warnanya\"\n",
        "output = \"\"\n",
        "\n",
        "for huruf in normal:\n",
        "    if huruf.lower() in ['a', 'u', 'e', 'o']:\n",
        "        output += 'i'\n",
        "    else:\n",
        "        output += huruf\n",
        "\n",
        "print(\"String awal:\", normal)\n",
        "print(\"String setelah penggantian:\", output)\n"
      ],
      "metadata": {
        "colab": {
          "base_uri": "https://localhost:8080/"
        },
        "id": "wwtbIE70Plff",
        "outputId": "2b4b82f6-1d08-48ee-beef-a29133b5a3b9"
      },
      "execution_count": null,
      "outputs": [
        {
          "output_type": "stream",
          "name": "stdout",
          "text": [
            "String awal: Balonku ada lima rupa-rupa warnanya\n",
            "String setelah penggantian: Bilinki idi limi ripi-ripi wirninyi\n"
          ]
        }
      ]
    },
    {
      "cell_type": "code",
      "source": [
        "# P5 Pola Bilangan\n",
        "\n",
        "for i in range(1, 11):\n",
        "    print(*range(1, i + 1))"
      ],
      "metadata": {
        "id": "cn8ZODVdSt67",
        "colab": {
          "base_uri": "https://localhost:8080/"
        },
        "outputId": "5415b305-c2ad-4e73-81e4-ee5f7d8a4f9b"
      },
      "execution_count": null,
      "outputs": [
        {
          "output_type": "stream",
          "name": "stdout",
          "text": [
            "1\n",
            "1 2\n",
            "1 2 3\n",
            "1 2 3 4\n",
            "1 2 3 4 5\n",
            "1 2 3 4 5 6\n",
            "1 2 3 4 5 6 7\n",
            "1 2 3 4 5 6 7 8\n",
            "1 2 3 4 5 6 7 8 9\n",
            "1 2 3 4 5 6 7 8 9 10\n"
          ]
        }
      ]
    },
    {
      "cell_type": "code",
      "source": [
        "# P6 Membuat Ketupat\n",
        "\n",
        "# Bagian atas\n",
        "for a in range(1, 4):\n",
        "    print(\" \" * (3 - a) + \"*\" * (2*a - 1))\n",
        "# Bagian bawah\n",
        "for b in range(2, 0, -1):\n",
        "    print(\" \" * (3 - b) + \"*\" * (2*b - 1))"
      ],
      "metadata": {
        "id": "ZddgxB8ZSuqb",
        "colab": {
          "base_uri": "https://localhost:8080/"
        },
        "outputId": "b9c535a5-0139-4bc0-98a2-001f2a8efd31"
      },
      "execution_count": null,
      "outputs": [
        {
          "output_type": "stream",
          "name": "stdout",
          "text": [
            "  *\n",
            " ***\n",
            "*****\n",
            " ***\n",
            "  *\n"
          ]
        }
      ]
    },
    {
      "cell_type": "code",
      "source": [
        "# P7 Menampilkan Bilangam\n",
        "\n",
        "angka = [12, 75, 150, 215, 160, 165, 225, 180, 145, 525, 50]\n",
        "\n",
        "for a in range(len(angka)):\n",
        "    if angka[a] % 15 == 0:\n",
        "        print(f\"Bilangan ke-{a+1} habis dibagi 15\")  # Menambah 1 karena indeks dimulai dari 0"
      ],
      "metadata": {
        "id": "smAjXjyGSvAI",
        "colab": {
          "base_uri": "https://localhost:8080/"
        },
        "outputId": "de11d6fc-bb8d-480e-867e-f000fb1bbcec"
      },
      "execution_count": null,
      "outputs": [
        {
          "output_type": "stream",
          "name": "stdout",
          "text": [
            "Bilangan ke-2 habis dibagi 15\n",
            "Bilangan ke-3 habis dibagi 15\n",
            "Bilangan ke-6 habis dibagi 15\n",
            "Bilangan ke-7 habis dibagi 15\n",
            "Bilangan ke-8 habis dibagi 15\n",
            "Bilangan ke-10 habis dibagi 15\n"
          ]
        }
      ]
    },
    {
      "cell_type": "code",
      "source": [
        "# P8 Sisa Tali\n",
        "\n",
        "def hitung_potongan(panjang):\n",
        "    potongan = 0\n",
        "    for i in range(1, panjang, 2):\n",
        "        panjang -= i\n",
        "        if panjang >= 0:\n",
        "            potongan += 1\n",
        "        else:\n",
        "            break\n",
        "    return potongan\n",
        "\n",
        "panjang_tali = int(input(\"Masukkan panjang tali (dalam cm): \"))\n",
        "jumlah_potongan = hitung_potongan(panjang_tali)\n",
        "print(f\"Banyaknya potongan yang dapat dibuat adalah {jumlah_potongan}\")"
      ],
      "metadata": {
        "colab": {
          "base_uri": "https://localhost:8080/"
        },
        "id": "uLAWjrNlbKn7",
        "outputId": "c9657ce1-66ba-4aa7-9352-7da7b9db99fd"
      },
      "execution_count": null,
      "outputs": [
        {
          "output_type": "stream",
          "name": "stdout",
          "text": [
            "Masukkan panjang tali (dalam cm): 625327\n",
            "Banyaknya potongan yang dapat dibuat adalah 790\n"
          ]
        }
      ]
    },
    {
      "cell_type": "markdown",
      "source": [
        "# Diskusi 6"
      ],
      "metadata": {
        "id": "1Dk3txw-eJum"
      }
    },
    {
      "cell_type": "code",
      "source": [
        "# P1: Password\n",
        "\n",
        "def cek_password(kesempatan=3):\n",
        "    password_benar = \"statg23\"\n",
        "    password = input(\"Masukkan password: \")\n",
        "\n",
        "    if password == password_benar:\n",
        "        print(\"Selamat datang\")\n",
        "    else:\n",
        "        kesempatan -= 1\n",
        "        if kesempatan == 0:\n",
        "            print(\"Anda terblokir karena salah memasukkan password\")\n",
        "        else:\n",
        "            print(f\"Maaf password anda salah. Anda memiliki {kesempatan} kesempatan lagi.\")\n",
        "            cek_password(kesempatan)\n",
        "\n",
        "cek_password()"
      ],
      "metadata": {
        "colab": {
          "base_uri": "https://localhost:8080/"
        },
        "id": "nwV41cE7ebSz",
        "outputId": "d3197926-72ce-41ae-906b-21c2f860814a"
      },
      "execution_count": null,
      "outputs": [
        {
          "output_type": "stream",
          "name": "stdout",
          "text": [
            "Masukkan password: ok\n",
            "Maaf password anda salah. Anda memiliki 2 kesempatan lagi.\n",
            "Masukkan password: gatau\n",
            "Maaf password anda salah. Anda memiliki 1 kesempatan lagi.\n",
            "Masukkan password: statg23\n",
            "Selamat datang\n"
          ]
        }
      ]
    },
    {
      "cell_type": "code",
      "source": [
        "# P2: Mencari Bilangan Kelipatan 5\n",
        "\n",
        "def hitung_kelipatan_5(data):\n",
        "    jumlah_kelipatan_5 = 0\n",
        "    for bilangan in data:\n",
        "        if bilangan % 5 == 0:\n",
        "            jumlah_kelipatan_5 += 1\n",
        "    return jumlah_kelipatan_5\n",
        "\n",
        "list1 = [15, 16, 12, 9, 8, 6, 35, 39, 41, 43, 25]\n",
        "list2 = [224, 205, 19, 38, 62, 75, 131, 122, 165, 30, 71, 28]\n",
        "\n",
        "jumlah_kelipatan_5_list1 = hitung_kelipatan_5(list1)\n",
        "jumlah_kelipatan_5_list2 = hitung_kelipatan_5(list2)\n",
        "\n",
        "print(\"Banyaknya bilangan kelipatan 5 pada list1:\", jumlah_kelipatan_5_list1)\n",
        "print(\"Banyaknya bilangan kelipatan 5 pada list2:\", jumlah_kelipatan_5_list2)"
      ],
      "metadata": {
        "colab": {
          "base_uri": "https://localhost:8080/"
        },
        "id": "uVolhefxfHBn",
        "outputId": "06691ed1-efcf-479e-9936-94c22739e73d"
      },
      "execution_count": null,
      "outputs": [
        {
          "output_type": "stream",
          "name": "stdout",
          "text": [
            "Banyaknya bilangan kelipatan 5 pada list1: 3\n",
            "Banyaknya bilangan kelipatan 5 pada list2: 4\n"
          ]
        }
      ]
    },
    {
      "cell_type": "code",
      "source": [
        "# P3: Memilih Bilangan Genap\n",
        "\n",
        "tup1 = (15, 16, 12, 9, 8, 6, 35, 39, 41, 43, 25, 224, 205, 19, 38, 62, 75, 131, 122, 165, 30, 71, 28)\n",
        "\n",
        "list_genap = []\n",
        "\n",
        "for bilangan in tup1:\n",
        "    if bilangan % 2 == 0:\n",
        "        list_genap.append(bilangan)\n",
        "\n",
        "print(\"List bilangan genap:\", list_genap)"
      ],
      "metadata": {
        "colab": {
          "base_uri": "https://localhost:8080/"
        },
        "id": "12NEKXiKfaij",
        "outputId": "b032b4a1-3b68-41da-c337-12c4df904d52"
      },
      "execution_count": null,
      "outputs": [
        {
          "output_type": "stream",
          "name": "stdout",
          "text": [
            "List bilangan genap: [16, 12, 8, 6, 224, 38, 62, 122, 30, 28]\n"
          ]
        }
      ]
    },
    {
      "cell_type": "code",
      "source": [
        "# P4: Menggambar Kotak Bintang\n",
        "\n",
        "def kotak(n):\n",
        "    for i in range(n):\n",
        "        if i == 0 or i == n - 1:\n",
        "            print(\"*\" * (2 * n))\n",
        "        else:\n",
        "            print(\"*\" + \" \" * (2 * n - 2) + \"*\")\n",
        "\n",
        "n = int(input(\"nilai n: \"))\n",
        "kotak(n)"
      ],
      "metadata": {
        "colab": {
          "base_uri": "https://localhost:8080/"
        },
        "id": "UeZhy8W8ggxM",
        "outputId": "3d92f035-9fc3-43cd-e743-dde3f453ccf3"
      },
      "execution_count": null,
      "outputs": [
        {
          "output_type": "stream",
          "name": "stdout",
          "text": [
            "nilai n: 21\n",
            "******************************************\n",
            "*                                        *\n",
            "*                                        *\n",
            "*                                        *\n",
            "*                                        *\n",
            "*                                        *\n",
            "*                                        *\n",
            "*                                        *\n",
            "*                                        *\n",
            "*                                        *\n",
            "*                                        *\n",
            "*                                        *\n",
            "*                                        *\n",
            "*                                        *\n",
            "*                                        *\n",
            "*                                        *\n",
            "*                                        *\n",
            "*                                        *\n",
            "*                                        *\n",
            "*                                        *\n",
            "******************************************\n"
          ]
        }
      ]
    },
    {
      "cell_type": "code",
      "source": [
        "# P5: Jumlah Deret Ayun\n",
        "\n",
        "def jumlah_deret(n):\n",
        "    jumlah = 0\n",
        "    tanda = 1\n",
        "    for i in range(1, n+1):\n",
        "        jumlah += tanda * 1/i\n",
        "        tanda *= -1\n",
        "    return jumlah\n",
        "\n",
        "n_values = [25, 50, 100]\n",
        "\n",
        "for n in n_values:\n",
        "    hasil = jumlah_deret(n)\n",
        "    print(f\"Jumlah deret ayun untuk n = {n}: {hasil}\")"
      ],
      "metadata": {
        "colab": {
          "base_uri": "https://localhost:8080/"
        },
        "id": "Z3wR6bQggnpj",
        "outputId": "f3c6b4fa-4810-439d-d52b-f8a39555efac"
      },
      "execution_count": null,
      "outputs": [
        {
          "output_type": "stream",
          "name": "stdout",
          "text": [
            "Jumlah deret ayun untuk n = 25: 0.7127474995428288\n",
            "Jumlah deret ayun untuk n = 50: 0.6832471605759183\n",
            "Jumlah deret ayun untuk n = 100: 0.688172179310195\n"
          ]
        }
      ]
    },
    {
      "cell_type": "code",
      "source": [
        "# P8: Pemisah Bilangan\n",
        "\n",
        "def format_mata_uang(nilai):\n",
        "    formatted_value = \"{:,.2f}\".format(nilai)\n",
        "    return formatted_value.replace(\",\", \".\")\n",
        "\n",
        "while True:\n",
        "    try:\n",
        "        nilai = float(input(\"Masukkan nilai mata uang: \"))\n",
        "        break\n",
        "    except ValueError:\n",
        "        print(\"Masukan tidak valid. Masukkan angka.\")\n",
        "\n",
        "formatted_value = format_mata_uang(nilai)\n",
        "print(f\"Rp {formatted_value}\")"
      ],
      "metadata": {
        "colab": {
          "base_uri": "https://localhost:8080/"
        },
        "id": "k3-R8FZrhv6X",
        "outputId": "1795a410-5a8f-40a0-f211-568561410bb4"
      },
      "execution_count": null,
      "outputs": [
        {
          "output_type": "stream",
          "name": "stdout",
          "text": [
            "Masukkan nilai mata uang: 1300000\n",
            "Rp 1.300.000.00\n"
          ]
        }
      ]
    },
    {
      "cell_type": "code",
      "source": [
        "# P9: Saldo Tabungan\n",
        "\n",
        "def hitung_bunga(saldo, b):\n",
        "    return saldo * (b / 100)\n",
        "\n",
        "def hitung_biaya_administrasi(saldo):\n",
        "    return 5000\n",
        "\n",
        "def hitung_saldo_akhir(M, b, n):\n",
        "    saldo = M\n",
        "    for bulan in range(n):\n",
        "        bunga = hitung_bunga(saldo, b)\n",
        "        saldo += bunga\n",
        "        saldo -= hitung_biaya_administrasi(saldo)\n",
        "    return saldo\n",
        "\n",
        "M = float(input(\"Masukkan jumlah tabungan awal (Rp): \"))\n",
        "b = float(input(\"Masukkan persentase bunga per bulan (%): \"))\n",
        "n = int(input(\"Masukkan jumlah bulan: \"))\n",
        "\n",
        "if M < 200000:\n",
        "    print(\"Maaf, minimal tabungan awal adalah Rp 200.000\")\n",
        "else:\n",
        "    saldo_akhir = hitung_saldo_akhir(M, b, n)\n",
        "    print(f\"Saldo akhir setelah {n} bulan adalah Rp {saldo_akhir:.2f}\")"
      ],
      "metadata": {
        "colab": {
          "base_uri": "https://localhost:8080/"
        },
        "id": "LHLlgn2EiS8e",
        "outputId": "3292f843-2f31-4732-be39-926f80c74671"
      },
      "execution_count": null,
      "outputs": [
        {
          "output_type": "stream",
          "name": "stdout",
          "text": [
            "Masukkan jumlah tabungan awal (Rp): 1250000\n",
            "Masukkan persentase bunga per bulan (%): 12\n",
            "Masukkan jumlah bulan: 4\n",
            "Saldo akhir setelah 4 bulan adalah Rp 1943002.56\n"
          ]
        }
      ]
    },
    {
      "cell_type": "code",
      "source": [
        "import numpy as np\n",
        "\n",
        "data = np.array([5, 3, 3, 2, 4, 10, 1, 0, 2, 3, 1, 2, 1])\n",
        "\n",
        "# Menghitung rata-rata\n",
        "rata_rata = np.mean(data)\n",
        "\n",
        "# Menghitung simpangan baku\n",
        "simpangan_baku = np.std(data)\n",
        "\n",
        "# Menghitung Zi\n",
        "Zi = (data - rata_rata) / simpangan_baku\n",
        "\n",
        "print(\"Nilai Zi:\", Zi)\n"
      ],
      "metadata": {
        "colab": {
          "base_uri": "https://localhost:8080/"
        },
        "id": "fnCcyBgec9Qj",
        "outputId": "e9b3c51b-a1f7-426e-ad70-849418fb1394"
      },
      "execution_count": null,
      "outputs": [
        {
          "output_type": "stream",
          "name": "stdout",
          "text": [
            "Nilai Zi: [ 0.88104349  0.06293168  0.06293168 -0.34612423  0.47198758  2.92632301\n",
            " -0.75518013 -1.16423603 -0.34612423  0.06293168 -0.75518013 -0.34612423\n",
            " -0.75518013]\n"
          ]
        }
      ]
    },
    {
      "cell_type": "code",
      "source": [
        "# P10 Pengelompokan CLuster\n",
        "\n",
        "import math\n",
        "\n",
        "def hitung_jarak(titik1, titik2):\n",
        "    \"\"\"Fungsi untuk menghitung jarak antara dua titik.\"\"\"\n",
        "    return math.sqrt(sum((x - y) ** 2 for x, y in zip(titik1, titik2)))\n",
        "\n",
        "def klasifikasi_cluster(titik, pusat_cluster):\n",
        "    \"\"\"Fungsi untuk mengklasifikasikan sebuah titik ke sebuah cluster berdasarkan pusat-pusat cluster terdekat.\"\"\"\n",
        "    jarak_minimum = float('inf')\n",
        "    cluster_terdekat = None\n",
        "    for cluster, pusat in pusat_cluster.items():\n",
        "        jarak_ke_pusat = hitung_jarak(titik, pusat)\n",
        "        if jarak_ke_pusat < jarak_minimum:\n",
        "            jarak_minimum = jarak_ke_pusat\n",
        "            cluster_terdekat = cluster\n",
        "    return cluster_terdekat\n",
        "\n",
        "# Definisikan pusat-pusat cluster\n",
        "pusat_cluster = {'A': (2, 1, 3), 'B': (1, -4, 6), 'C': (-2, 3, -2)}\n",
        "\n",
        "# Titik-titik contoh\n",
        "titik_contoh = [(2, 2, 4), (1, -3, 5)]\n",
        "\n",
        "for titik in titik_contoh:\n",
        "    cluster = klasifikasi_cluster(titik, pusat_cluster)\n",
        "    print(f\"Titik {titik} tergolong cluster {cluster}.\")"
      ],
      "metadata": {
        "colab": {
          "base_uri": "https://localhost:8080/"
        },
        "id": "NibxOkFlfKZe",
        "outputId": "f02114e6-2906-427f-ffd3-87b8b6bd36d1"
      },
      "execution_count": null,
      "outputs": [
        {
          "output_type": "stream",
          "name": "stdout",
          "text": [
            "Titik (2, 2, 4) tergolong cluster A.\n",
            "Titik (1, -3, 5) tergolong cluster B.\n"
          ]
        }
      ]
    }
  ]
}