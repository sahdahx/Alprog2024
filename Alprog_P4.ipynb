{
  "nbformat": 4,
  "nbformat_minor": 0,
  "metadata": {
    "colab": {
      "provenance": [],
      "authorship_tag": "ABX9TyOHA+BFZHg4x2+i+7sIqOBv",
      "include_colab_link": true
    },
    "kernelspec": {
      "name": "python3",
      "display_name": "Python 3"
    },
    "language_info": {
      "name": "python"
    }
  },
  "cells": [
    {
      "cell_type": "markdown",
      "metadata": {
        "id": "view-in-github",
        "colab_type": "text"
      },
      "source": [
        "<a href=\"https://colab.research.google.com/github/sahdahx/Alprog2024/blob/main/Alprog_P4.ipynb\" target=\"_parent\"><img src=\"https://colab.research.google.com/assets/colab-badge.svg\" alt=\"Open In Colab\"/></a>"
      ]
    },
    {
      "cell_type": "markdown",
      "source": [
        "# **Algoritma dan Pemrogaman untuk Statistika, 19 Maret 2024**\n",
        "Diskusi 3"
      ],
      "metadata": {
        "id": "LD-sz5yhLfwO"
      }
    },
    {
      "cell_type": "code",
      "execution_count": null,
      "metadata": {
        "colab": {
          "base_uri": "https://localhost:8080/"
        },
        "id": "9SRdxCRhLQJu",
        "outputId": "a4f2f3ed-2187-44f9-c289-cfb484e1305b"
      },
      "outputs": [
        {
          "output_type": "stream",
          "name": "stdout",
          "text": [
            "ang\n",
            "mba\n"
          ]
        }
      ],
      "source": [
        "#P1\n",
        "kata1 = \"pembangunan\"\n",
        "output1 = kata1[4:7]\n",
        "print(output1)\n",
        "\n",
        "kata2 = \"aljabar\"\n",
        "output2 = kata1[2:5]\n",
        "print(output2)"
      ]
    },
    {
      "cell_type": "code",
      "source": [
        "#P2\n",
        "\n",
        "string_awal = \"ayam goreng\"\n",
        "string_tengah = \"kampung\"\n",
        "sisip = \" \"\n",
        "\n",
        "spasi = string_awal.index(\" \")\n",
        "output1 = string_awal[:spasi] + string_tengah + string_awal[spasi:] + sisip\n",
        "print(output1)\n",
        "\n",
        "string_awal = \"buku matematika\"\n",
        "string_tengah = \"paket\"\n",
        "sisip = \" \"\n",
        "\n",
        "spasi = string_awal.index(\" \")\n",
        "output2 = string_awal[:spasi] + string_tengah + string_awal[spasi:] + sisip\n",
        "print(output2)"
      ],
      "metadata": {
        "colab": {
          "base_uri": "https://localhost:8080/"
        },
        "id": "Q6t03jWrL9UH",
        "outputId": "a1b1e37d-31fa-4428-a35b-77cc91cc2c8f"
      },
      "execution_count": null,
      "outputs": [
        {
          "output_type": "stream",
          "name": "stdout",
          "text": [
            "ayamkampung goreng \n",
            "bukupaket matematika \n"
          ]
        }
      ]
    },
    {
      "cell_type": "code",
      "source": [
        "#P3\n",
        "\n",
        "kalimat = \"Saya pergi ke UNY naik sepeda motor\"\n",
        "kata = kalimat.lower().split()\n",
        "\n",
        "for output in kata:\n",
        "  print(output)"
      ],
      "metadata": {
        "colab": {
          "base_uri": "https://localhost:8080/"
        },
        "id": "EhGAV7jxL-Ps",
        "outputId": "6b713b45-7b40-4f73-b9eb-99bb5c60320b"
      },
      "execution_count": null,
      "outputs": [
        {
          "output_type": "stream",
          "name": "stdout",
          "text": [
            "saya\n",
            "pergi\n",
            "ke\n",
            "uny\n",
            "naik\n",
            "sepeda\n",
            "motor\n"
          ]
        }
      ]
    },
    {
      "cell_type": "code",
      "source": [
        "#P4\n",
        "\n",
        "nip = \"199301212019031010\"\n",
        "tahun = nip[:4]\n",
        "bulan = nip[4:6]\n",
        "tanggal = nip[6:8]\n",
        "\n",
        "print(\"Tanggal lahir ASN:\", tahun+ \"-\" + bulan + \"-\" + tanggal)"
      ],
      "metadata": {
        "colab": {
          "base_uri": "https://localhost:8080/"
        },
        "id": "nvmr5w1vL-3P",
        "outputId": "ca4f26ec-d1f3-49d5-c68c-c8b4efb9b991"
      },
      "execution_count": null,
      "outputs": [
        {
          "output_type": "stream",
          "name": "stdout",
          "text": [
            "Tanggal lahir ASN: 1993-01-21\n"
          ]
        }
      ]
    },
    {
      "cell_type": "code",
      "source": [
        "#P5\n",
        "\n",
        "pembukaan_uud_1945 = \"Bahwa sesungguhnya Kemerdekaan itu ialah hak segala bangsa dan oleh sebab itu, maka penjajahan di atas dunia harus dihapuskan, karena tidak sesuai dengan perikemanusiaan dan perikeadilan. Dan perjuangan pergerakan kemerdekaan Indonesia telah sampailah kepada saat yang berbahagia dengan selamat sentausa mengantarkan rakyat Indonesia ke depan pintu gerbang kemerdekaan Negara Indonesia, yang merdeka, bersatu, berdaulat, adil dan makmur. Atas berkat rakhmat Allah Yang Maha Kuasa dan dengan didorongkan oleh keinginan luhur, supaya berkehidupan kebangsaan yang bebas, maka rakyat Indonesia menyatakan dengan ini kemerdekaannya. Kemudian daripada itu untuk membentuk suatu Pemerintah Negara Indonesia yang melindungi segenap bangsa Indonesia dan seluruh tumpah darah Indonesia dan untuk memajukan kesejahteraan umum, mencerdaskan kehidupan bangsa, dan ikut melaksanakan ketertiban dunia yang berdasarkan kemerdekaan, perdamaian abadi dan keadilan sosial, maka disusunlah Kemerdekaan Kebangsaan Indonesia itu dalam suatu Undang-Undang Dasar Negara Indonesia, yang terbentuk dalam suatu susunan Negara Republik Indonesia yang berkedaulatan rakyat dengan berdasar kepada Ketuhanan Yang Maha Esa, Kemanusiaan yang adil dan beradab, Persatuan Indonesia dan Kerakyatan yang dipimpin oleh hikmat kebijaksanaan dalam Permusyawaratan/Perwakilan, serta dengan mewujudkan suatu Keadilan sosial bagi seluruh rakyat Indonesia.\"\n",
        "\n",
        "# menghitung banyak kata\n",
        "banyak_kata = len(pembukaan_uud_1945.split())\n",
        "print(\"Banyaknya kata dalam Pembukaan UUD 1945:\", banyak_kata)\n",
        "\n",
        "# menghitung banyak kalimat\n",
        "banyak_kalimat = pembukaan_uud_1945.count('.')+pembukaan_uud_1945.count(\"!\")+pembukaan_uud_1945.count('?')\n",
        "print(\"Banyaknya kalimat dalam Pembukaan UUD 1945:\", banyak_kalimat)\n",
        "\n",
        "# menghitung banyak kata 'dan'\n",
        "banyak_dan = pembukaan_uud_1945.lower().count('dan')\n",
        "print(\"Banyaknya kata 'dan' dalam Pembukaan UUD 1945:\", banyak_dan)\n"
      ],
      "metadata": {
        "colab": {
          "base_uri": "https://localhost:8080/"
        },
        "id": "EcfEV_d0NsG0",
        "outputId": "3f1817cc-0ab2-43e0-d596-5aabb06681f0"
      },
      "execution_count": null,
      "outputs": [
        {
          "output_type": "stream",
          "name": "stdout",
          "text": [
            "Banyaknya kata dalam Pembukaan UUD 1945: 178\n",
            "Banyaknya kalimat dalam Pembukaan UUD 1945: 4\n",
            "Banyaknya kata 'dan' dalam Pembukaan UUD 1945: 13\n"
          ]
        }
      ]
    }
  ]
}