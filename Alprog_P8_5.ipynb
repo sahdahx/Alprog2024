{
  "nbformat": 4,
  "nbformat_minor": 0,
  "metadata": {
    "colab": {
      "provenance": [],
      "authorship_tag": "ABX9TyNIIJDmByq1m53IG3bOXt8U",
      "include_colab_link": true
    },
    "kernelspec": {
      "name": "python3",
      "display_name": "Python 3"
    },
    "language_info": {
      "name": "python"
    }
  },
  "cells": [
    {
      "cell_type": "markdown",
      "metadata": {
        "id": "view-in-github",
        "colab_type": "text"
      },
      "source": [
        "<a href=\"https://colab.research.google.com/github/sahdahx/Alprog_2024/blob/main/Alprog_P8_5.ipynb\" target=\"_parent\"><img src=\"https://colab.research.google.com/assets/colab-badge.svg\" alt=\"Open In Colab\"/></a>"
      ]
    },
    {
      "cell_type": "markdown",
      "source": [
        "# **Algoritma dan Pemrogaman untuk Statistika, 7 Mei 2024**"
      ],
      "metadata": {
        "id": "FPggc3rM6mOx"
      }
    },
    {
      "cell_type": "code",
      "execution_count": null,
      "metadata": {
        "colab": {
          "base_uri": "https://localhost:8080/"
        },
        "id": "o7Alitmi4zqj",
        "outputId": "1ca7d568-8206-4fe6-bca6-424ac289a270"
      },
      "outputs": [
        {
          "output_type": "stream",
          "name": "stdout",
          "text": [
            "Nilai integral rangkap dua: 0.5603492860775996\n",
            "Nilai integral rangkap tiga: -567.7714285714285\n"
          ]
        }
      ],
      "source": [
        "# P5 Menghitung Integral\n",
        "from scipy import integrate\n",
        "import numpy as np\n",
        "\n",
        "# Integral rangkap dua\n",
        "def fungsi2(x, y):\n",
        "  return 1 / (1 + x**2 + y**2)\n",
        "\n",
        "hasil_dua, _ = integrate.dblquad(fungsi2, 0, 2, lambda y: y, lambda y: np.sqrt(4 - y**2))\n",
        "print(\"Nilai integral rangkap dua:\", hasil_dua)\n",
        "\n",
        "# Integral rangkap tiga\n",
        "def fungsi3(x, y):\n",
        "  return integrate.quad(lambda z: 1, 3*x**2, 4 - x**2)[0]\n",
        "\n",
        "hasil_tiga, _ = integrate.dblquad(fungsi3, -2, 2, lambda x:0, lambda x: 6 - x**2)\n",
        "print(\"Nilai integral rangkap tiga:\", hasil_tiga)"
      ]
    }
  ]
}