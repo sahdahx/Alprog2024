{
  "nbformat": 4,
  "nbformat_minor": 0,
  "metadata": {
    "colab": {
      "provenance": [],
      "authorship_tag": "ABX9TyOHZCZK7Z4VGg+ndfs7gx60",
      "include_colab_link": true
    },
    "kernelspec": {
      "name": "python3",
      "display_name": "Python 3"
    },
    "language_info": {
      "name": "python"
    }
  },
  "cells": [
    {
      "cell_type": "markdown",
      "metadata": {
        "id": "view-in-github",
        "colab_type": "text"
      },
      "source": [
        "<a href=\"https://colab.research.google.com/github/sahdahx/Alprog_2024/blob/main/Alprog_P10.ipynb\" target=\"_parent\"><img src=\"https://colab.research.google.com/assets/colab-badge.svg\" alt=\"Open In Colab\"/></a>"
      ]
    },
    {
      "cell_type": "markdown",
      "source": [
        "# **Algoritma dan Pemrogaman untuk Statistika, 21 Mei 2024**\n",
        "Pertemuan 10: Bekerja dengan File Data"
      ],
      "metadata": {
        "id": "1aY7cfB3RF-2"
      }
    },
    {
      "cell_type": "code",
      "execution_count": null,
      "metadata": {
        "id": "yIUIQ5f5Qz9k",
        "colab": {
          "base_uri": "https://localhost:8080/"
        },
        "outputId": "5d0f94ba-0d68-4ae2-f2b2-1e8952acd8a4"
      },
      "outputs": [
        {
          "output_type": "stream",
          "name": "stdout",
          "text": [
            "=== Membaca file txt ===\n",
            "status read: True\n",
            "status write: False\n",
            "['Adi Suraji\\n', 'Lina Lalina\\n', 'Asada chan']\n",
            "apakah file sudah diclode: False\n",
            "apakah file sudah diclode: True\n",
            "\n",
            " === Membaca file txt dengan with ===\n",
            "Adi Suraji\n",
            "apakah file sudah diclose: True\n"
          ]
        }
      ],
      "source": [
        "# EPISODE 64: Read, Open, and With\n",
        "\n",
        "print(3*\"=\", \"Membaca file txt\", 3*\"=\")\n",
        "file = open(\"data.txt\", mode=\"r\") #mode membaca file data.txt\n",
        "\n",
        "print(f\"status read: {file.readable()}\")\n",
        "print(f\"status write: {file.writable()}\")\n",
        "\n",
        "## baca seluruh file\n",
        "#print(file.read())\n",
        "\n",
        "## baca per baris\n",
        "#print(file.readline())  # baca bari pertama\n",
        "#print(file.readline())  # baca bari kedua\n",
        "\n",
        "# baca semua baris sebagai list\n",
        "print(file.readlines())\n",
        "\n",
        "print(f\"apakah file sudah diclode: {file.closed}\")\n",
        "file.close()\n",
        "print(f\"apakah file sudah diclode: {file.closed}\")\n",
        "\n",
        "## salah satu teknik membuka file di python\n",
        "print(\"\\n\", 3*\"=\", \"Membaca file txt dengan with\", 3*\"=\")\n",
        "with open(\"data.txt\", mode=\"r\") as file:\n",
        "    content=file.readline()\n",
        "    print(content, end=\"\")\n",
        "\n",
        "print(f\"apakah file sudah diclose: {file.closed}\")"
      ]
    },
    {
      "cell_type": "code",
      "source": [
        "# EPISODE 65: Write External File\n",
        "\n",
        "# 1. mode write\n",
        "## mode ini akan membuat file baru, kemudian akan menimpa atau overwrite isinya\n",
        "\n",
        "with open(\"data_1.txt\", 'w', encoding=\"utf-8\") as file:\n",
        "    file.write(\"jon si jhonny\")\n",
        "\n",
        "with open(\"data_1.txt\", 'w', encoding=\"utf-8\") as file:\n",
        "    file.write(\"ucup surucup\")\n",
        "\n",
        "# 2. mode append\n",
        "\n",
        "with open(\"data_2.txt\", 'w', encoding=\"utf-8\") as file:\n",
        "    file.write(\"ucup surucup \")\n",
        "\n",
        "with open(\"data_2.txt\", 'a', encoding=\"utf-8\") as file:\n",
        "    file.write(\"aji pujandi\\n\")\n",
        "\n",
        "with open(\"data_2.txt\", 'a', encoding=\"utf-8\") as file:\n",
        "    file.write(\"lala syalala\")\n",
        "\n",
        "# 3. mode r+\n",
        "\n",
        "with open(\"data_3.txt\", 'w', encoding=\"utf-8\") as file:\n",
        "  file.write(\"data ke 3\\n\")\n",
        "\n",
        "with open(\"data_3.txt\", 'r+', encoding=\"utf-8\") as file:\n",
        "  file.write(\"menambah dengan r+\")\n",
        "  data = file.read()\n",
        "  print(data)"
      ],
      "metadata": {
        "id": "RTeyGePR6Dhm",
        "colab": {
          "base_uri": "https://localhost:8080/"
        },
        "outputId": "b5524d7d-d002-43be-f52f-26929bf63b08"
      },
      "execution_count": 14,
      "outputs": [
        {
          "output_type": "stream",
          "name": "stdout",
          "text": [
            "\n"
          ]
        }
      ]
    }
  ]
}