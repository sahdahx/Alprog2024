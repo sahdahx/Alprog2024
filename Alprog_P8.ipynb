{
  "nbformat": 4,
  "nbformat_minor": 0,
  "metadata": {
    "colab": {
      "provenance": [],
      "authorship_tag": "ABX9TyPVgmZYpClzEW3Ze+fdVN9M",
      "include_colab_link": true
    },
    "kernelspec": {
      "name": "python3",
      "display_name": "Python 3"
    },
    "language_info": {
      "name": "python"
    }
  },
  "cells": [
    {
      "cell_type": "markdown",
      "metadata": {
        "id": "view-in-github",
        "colab_type": "text"
      },
      "source": [
        "<a href=\"https://colab.research.google.com/github/sahdahx/Alprog2024/blob/main/Alprog_P8.ipynb\" target=\"_parent\"><img src=\"https://colab.research.google.com/assets/colab-badge.svg\" alt=\"Open In Colab\"/></a>"
      ]
    },
    {
      "cell_type": "markdown",
      "source": [
        "# **Algoritma dan Pemrogaman untuk Statistika, 7 Mei 2024**\n",
        "Diskusi Modul dan Library"
      ],
      "metadata": {
        "id": "6VjtSUutUaXO"
      }
    },
    {
      "cell_type": "code",
      "execution_count": null,
      "metadata": {
        "id": "IGgsoP8bUVhU",
        "colab": {
          "base_uri": "https://localhost:8080/"
        },
        "outputId": "1b7bb658-8b2e-4b16-d887-dc89e5b4d4ff"
      },
      "outputs": [
        {
          "output_type": "stream",
          "name": "stdout",
          "text": [
            "sin(150) = 0.5\n",
            "cos(150) = -0.866\n",
            "tan(150) = -0.577\n"
          ]
        }
      ],
      "source": [
        "# P1 Perbandingan Trigonometri\n",
        "\n",
        "import math\n",
        "def trigonometri(sudut):\n",
        "  sin = round(math.sin(math.radians(sudut)), 3)\n",
        "  cos = round(math.cos(math.radians(sudut)), 3)\n",
        "  tan = round(math.tan(math.radians(sudut)), 3)\n",
        "  return sin, cos, tan\n",
        "\n",
        "sudut = 150\n",
        "sin, cos, tan = trigonometri(sudut)\n",
        "print(f\"sin({sudut}) = {sin}\")\n",
        "print(f\"cos({sudut}) = {cos}\")\n",
        "print(f\"tan({sudut}) = {tan}\")"
      ]
    },
    {
      "cell_type": "code",
      "source": [
        "# P2 Menghitung pH larutan\n",
        "\n",
        "import math\n",
        "\n",
        "def hitung_pH(konsentrasi, jenis):\n",
        "  # larutan asam\n",
        "  if jenis == \"asam\":\n",
        "    pH = -math.log10(konsentrasi)\n",
        "  # larutan basa\n",
        "  elif jenis == \"basa\":\n",
        "    pH = 14 + math.log10(konsentrasi)\n",
        "  else:\n",
        "    return \"Jenis larutan adalah netral.\"\n",
        "  return round(pH, 2)\n",
        "\n",
        "jenis = input(\"Masukkan jenis larutan: \")\n",
        "konsentrasi = float(input(\"Konsentrasi (mol/L atau M): \"))\n",
        "pH = hitung_pH(konsentrasi, jenis)\n",
        "\n",
        "print(\"pH larutan:\", pH)"
      ],
      "metadata": {
        "colab": {
          "base_uri": "https://localhost:8080/"
        },
        "id": "upWLm2XFIU1t",
        "outputId": "a809498a-8260-4b7f-fb86-af9286a6ee08"
      },
      "execution_count": null,
      "outputs": [
        {
          "output_type": "stream",
          "name": "stdout",
          "text": [
            "Masukkan jenis larutan: basa\n",
            "Konsentrasi (mol/L atau M): 0.2\n",
            "pH larutan: 13.3\n"
          ]
        }
      ]
    },
    {
      "cell_type": "code",
      "source": [
        "# P3 Banyaknya Susunan Pengurus\n",
        "\n",
        "import math\n",
        "\n",
        "def kombinasi(n):\n",
        "    if n < 4:\n",
        "        return \"Tidak cukup calon untuk memilih dewan pengurus.\"\n",
        "\n",
        "    kombinasi = math.comb(n, 4)\n",
        "    return kombinasi\n",
        "\n",
        "n = 8\n",
        "hasil = kombinasi(n)\n",
        "print(\"Banyak kombinasi untuk memilih dewan pengurus: \", hasil)"
      ],
      "metadata": {
        "colab": {
          "base_uri": "https://localhost:8080/"
        },
        "id": "sSzRviSKLwIN",
        "outputId": "e91b789a-57e3-4c80-e368-ac6528ea5daa"
      },
      "execution_count": null,
      "outputs": [
        {
          "output_type": "stream",
          "name": "stdout",
          "text": [
            "Banyak kombinasi untuk memilih dewan pengurus:  70\n"
          ]
        }
      ]
    },
    {
      "cell_type": "code",
      "source": [
        "# P4 Mencari akar-akar polinomial\n",
        "\n",
        "import numpy as np\n",
        "\n",
        "koefisien = [1, 0, -2, 3, -2, 1, -4]\n",
        "akar = np.roots(koefisien)\n",
        "\n",
        "print(\"Akar-akar dari polinomial tersebut adalah\", akar)"
      ],
      "metadata": {
        "colab": {
          "base_uri": "https://localhost:8080/"
        },
        "id": "9DAGNcV1MXqs",
        "outputId": "ef9c469b-be3a-4b00-9484-0f22f8739850"
      },
      "execution_count": null,
      "outputs": [
        {
          "output_type": "stream",
          "name": "stdout",
          "text": [
            "Akar-akar dari polinomial tersebut adalah [-2.06348963+0.j          1.32273948+0.j          0.78015765+1.03967936j\n",
            "  0.78015765-1.03967936j -0.40978257+0.83633077j -0.40978257-0.83633077j]\n"
          ]
        }
      ]
    },
    {
      "cell_type": "code",
      "source": [
        "# P5 Menghitung Integral\n",
        "\n"
      ],
      "metadata": {
        "id": "x2VJgx1FMYAS"
      },
      "execution_count": null,
      "outputs": []
    },
    {
      "cell_type": "code",
      "source": [
        "# P6 Distribusi Binomial\n",
        "\n",
        "import math\n",
        "\n",
        "def peluang_binomial(n, p, x):\n",
        "    if not (0 <= p <= 1) or not (0 <= x <= n):\n",
        "        return \"Masukkan salah!\"\n",
        "\n",
        "    return math.factorial(n) / (math.factorial(x) * math.factorial(n - x)) * (p ** x) * ((1 - p) ** (n - x))\n",
        "\n",
        "# Contoh penggunaan:\n",
        "n = 5\n",
        "p = 0.5\n",
        "x = 2\n",
        "print(\"Peluang binomialnya adalah\", peluang_binomial(n, p, x))"
      ],
      "metadata": {
        "colab": {
          "base_uri": "https://localhost:8080/"
        },
        "id": "pnT1HpHCO33_",
        "outputId": "b6843049-ef8e-4e68-c11f-4fc9d0c6038e"
      },
      "execution_count": null,
      "outputs": [
        {
          "output_type": "stream",
          "name": "stdout",
          "text": [
            "Peluang binomialnya adalah 0.3125\n"
          ]
        }
      ]
    },
    {
      "cell_type": "code",
      "source": [
        "# P7 Distribusi Poisson\n",
        "\n",
        "import math\n",
        "\n",
        "def poisson_pmf(lambd, x):\n",
        "    if lambd <= 0:\n",
        "        return \"nilai lambda harus positif\"\n",
        "\n",
        "    # Pastikan x adalah bilangan bulat\n",
        "    x = int(x)\n",
        "\n",
        "    # Hitung PMF Poisson\n",
        "    if x < 0:\n",
        "        return 0\n",
        "    return (lambd**x * math.exp(-lambd)) / math.factorial(x)\n",
        "\n",
        "lambd = 3.0  # rata-rata kejadian per interval\n",
        "x = 2.7      # jumlah kejadian\n",
        "\n",
        "prob = poisson_pmf(lambd, x)\n",
        "print(f\"P(X={int(x)}) = {prob}\")"
      ],
      "metadata": {
        "id": "m2gCRnx-O4VY",
        "colab": {
          "base_uri": "https://localhost:8080/"
        },
        "outputId": "9246f0ad-2287-480a-b94c-a1ab8f1240cb"
      },
      "execution_count": null,
      "outputs": [
        {
          "output_type": "stream",
          "name": "stdout",
          "text": [
            "P(X=2) = 0.22404180765538775\n"
          ]
        }
      ]
    },
    {
      "cell_type": "code",
      "source": [
        "# P8 Distribusi Eksponensial\n",
        "\n",
        "import math\n",
        "\n",
        "def eksponensial_cdf(mu, t):\n",
        "    if mu <= 0:\n",
        "        return \"nilai μ harus positif\"\n",
        "    if t < 0:\n",
        "        return \"nilai t harus positif\"\n",
        "\n",
        "    lambd = 1 / mu\n",
        "    peluang = 1 - math.exp(-lambd * t)\n",
        "\n",
        "    return peluang\n",
        "\n",
        "mu = 5.0  # rata-rata waktu antar kedatangan\n",
        "t = 3.0   # waktu setelah pelanggan sebelumnya\n",
        "\n",
        "prob = eksponensial_cdf(mu, t)\n",
        "print(f\"P(T<{t}) = {prob}\")"
      ],
      "metadata": {
        "colab": {
          "base_uri": "https://localhost:8080/"
        },
        "id": "7ER2pJDVStQz",
        "outputId": "eacaea41-a106-42da-c03a-478903db2905"
      },
      "execution_count": null,
      "outputs": [
        {
          "output_type": "stream",
          "name": "stdout",
          "text": [
            "P(T<3.0) = 0.4511883639059736\n"
          ]
        }
      ]
    },
    {
      "cell_type": "code",
      "source": [
        "# P9 Tabel Distribusi Binomial\n",
        "\n",
        "import math\n",
        "\n",
        "def kombinasi(n, x):\n",
        "    return math.factorial(n) / (math.factorial(x) * math.factorial(n - x))\n",
        "\n",
        "def binomial_pmf(n, p, x):\n",
        "    return kombinasi(n, x) * (p**x) * ((1 - p)**(n - x))\n",
        "\n",
        "def binomial_cdf(n, p, x):\n",
        "    cdf = 0\n",
        "    for k in range(x + 1):\n",
        "        cdf += binomial_pmf(n, p, k)\n",
        "    return cdf\n",
        "\n",
        "def hitung_binomial(n, p):\n",
        "    if n <= 3 or not (0 < p < 1):\n",
        "        return \"Input tidak valid. Pastikan n > 3 dan 0 < p < 1.\"\n",
        "\n",
        "    hasil = []\n",
        "    for x in range(n + 1):\n",
        "        pmf = binomial_pmf(n, p, x)\n",
        "        cdf = binomial_cdf(n, p, x)\n",
        "        hasil.append((x, pmf, cdf))\n",
        "    return hasil\n",
        "\n",
        "def cetak_tabel_binomial(n, p):\n",
        "    hasil = hitung_binomial(n, p)\n",
        "\n",
        "    if isinstance(hasil, str):\n",
        "        print(hasil)\n",
        "    else:\n",
        "        print(\" x        p(x)        F(x)\")\n",
        "        print(\"---------------------------\")\n",
        "        for x, pmf, cdf in hasil:\n",
        "            print(f\"{x:2d}    {pmf:10.4f}    {cdf:10.4f}\")\n",
        "\n",
        "n = 5   # jumlah percobaan\n",
        "p = 0.5 # probabilitas sukses\n",
        "cetak_tabel_binomial(n, p)"
      ],
      "metadata": {
        "colab": {
          "base_uri": "https://localhost:8080/"
        },
        "id": "6dxcvg0yTcKk",
        "outputId": "6e40ab89-a5ae-4480-e241-91491017b326"
      },
      "execution_count": null,
      "outputs": [
        {
          "output_type": "stream",
          "name": "stdout",
          "text": [
            " x        p(x)        F(x)\n",
            "---------------------------\n",
            " 0        0.0312        0.0312\n",
            " 1        0.1562        0.1875\n",
            " 2        0.3125        0.5000\n",
            " 3        0.3125        0.8125\n",
            " 4        0.1562        0.9688\n",
            " 5        0.0312        1.0000\n"
          ]
        }
      ]
    }
  ]
}