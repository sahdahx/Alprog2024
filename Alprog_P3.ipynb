{
  "nbformat": 4,
  "nbformat_minor": 0,
  "metadata": {
    "colab": {
      "provenance": [],
      "authorship_tag": "ABX9TyMXgEbr/wNtE5PmZulzEdXT",
      "include_colab_link": true
    },
    "kernelspec": {
      "name": "python3",
      "display_name": "Python 3"
    },
    "language_info": {
      "name": "python"
    }
  },
  "cells": [
    {
      "cell_type": "markdown",
      "metadata": {
        "id": "view-in-github",
        "colab_type": "text"
      },
      "source": [
        "<a href=\"https://colab.research.google.com/github/sahdahx/Alprog2024/blob/main/Alprog_P3.ipynb\" target=\"_parent\"><img src=\"https://colab.research.google.com/assets/colab-badge.svg\" alt=\"Open In Colab\"/></a>"
      ]
    },
    {
      "cell_type": "markdown",
      "source": [
        "# **Algoritma dan Pemrogaman untuk Statistika, 5 Maret 2024**\n",
        "Diskusi 2"
      ],
      "metadata": {
        "id": "DDNHy-Y4EM9N"
      }
    },
    {
      "cell_type": "code",
      "source": [
        "# DISKUSI 2: Luas Bangun Datar\n",
        "# Dictionary dengan sisi-sisi bangun datar\n",
        "bangun_datar = {\n",
        "    'segitiga': (3, 4, 5),\n",
        "    'persegi': (5, 5, 5, 5),\n",
        "    'persegipanjang': (6, 4, 6, 4)\n",
        "}\n",
        "\n",
        "# Fungsi untuk menghitung keliling\n",
        "def keliling(sisi):\n",
        "    return sum(sisi)\n",
        "\n",
        "# Menampilkan keliling masing-masing bangun datar\n",
        "for bangun, sisi in bangun_datar.items():\n",
        "    keliling_bangun_datar = keliling(sisi)\n",
        "    print(f\"Keliling {bangun} adalah {keliling_bangun_datar} satuan\")"
      ],
      "metadata": {
        "colab": {
          "base_uri": "https://localhost:8080/"
        },
        "id": "Ei8JjpbOEaY7",
        "outputId": "782e6741-3ad3-435a-ffb5-04dcec1547ec"
      },
      "execution_count": null,
      "outputs": [
        {
          "output_type": "stream",
          "name": "stdout",
          "text": [
            "Keliling segitiga adalah 12 satuan\n",
            "Keliling persegi adalah 20 satuan\n",
            "Keliling persegipanjang adalah 20 satuan\n"
          ]
        }
      ]
    },
    {
      "cell_type": "code",
      "source": [
        "# DISKUSI 2: Luas Segitiga\n",
        "from functools import reduce\n",
        "from math import sqrt\n",
        "\n",
        "# Segitiga memiliki 3 sisi yang terdiri dari: alas, tinggi, dan hipotenusa (sisi miring atau sisi yang paling panjang)\n",
        "sisi = [3, 4, 5]\n",
        "\n",
        "# Mencari hipotenusa (sisi terpanjang) menggunakan max\n",
        "hipotenusa = max(sisi)\n",
        "\n",
        "# Menghilangkan hipotenusa sehingga elemen yang ada dalam \"sisi\" hanya alas dan tinggi\n",
        "alas_tinggi = [x for x in sisi if x != hipotenusa]\n",
        "\n",
        "# Menghitung luas segitiga menggunakan rumus: a x t / 2\n",
        "# Menggunakan fungsi reduce untuk mengalikan semua elemen pada list lalu dibagi 2\n",
        "luas_segitiga = reduce(lambda x, y: x * y, alas_tinggi) / 2\n",
        "\n",
        "print(\"luas segitiga =\", luas_segitiga)"
      ],
      "metadata": {
        "colab": {
          "base_uri": "https://localhost:8080/"
        },
        "id": "-h7PcewMEkLH",
        "outputId": "c9ecfb06-b0e0-452e-ea3d-192942659d95"
      },
      "execution_count": null,
      "outputs": [
        {
          "output_type": "stream",
          "name": "stdout",
          "text": [
            "luas segitiga = 6.0\n"
          ]
        }
      ]
    },
    {
      "cell_type": "code",
      "source": [
        "# DISKUSI 2: Luas Segitiga 2\n",
        "# Meminta pengguna memasukkan input panjang sisi-sisi segitiga\n",
        "a = float(input(\"Masukkan panjang sisi 1: \"))\n",
        "b = float(input(\"Masukkan panjang sisi 2: \"))\n",
        "c = float(input(\"Masukkan panjang sisi 3: \"))\n",
        "\n",
        "def hitung_luas_segitiga(a, b, c):\n",
        "    # Menghitung luas segitiga menggunakan rumus Heron\n",
        "    s = (a + b + c) / 2\n",
        "    luas = (s * (s - a) * (s - b) * (s - c)) ** 0.5\n",
        "    return luas\n",
        "\n",
        "# Memanggil fungsi hitung_luas_segitiga dengan argumen yang sudah dimasukkan pengguna\n",
        "luas_segitiga = hitung_luas_segitiga(a, b, c)\n",
        "\n",
        "# Menampilkan hasil\n",
        "print(f\"Luas segitiga dengan sisi-sisi {a} satuan, {b} satuan, dan {c} satuan adalah {luas_segitiga:.2f} satuan luas.\")"
      ],
      "metadata": {
        "colab": {
          "base_uri": "https://localhost:8080/"
        },
        "id": "FqBpH0BjEory",
        "outputId": "106398b7-5617-48c0-86a9-da05ff118dc0"
      },
      "execution_count": null,
      "outputs": [
        {
          "output_type": "stream",
          "name": "stdout",
          "text": [
            "Masukkan panjang sisi 1: 3\n",
            "Masukkan panjang sisi 2: 4\n",
            "Masukkan panjang sisi 3: 5\n",
            "Luas segitiga dengan sisi-sisi 3.0 satuan, 4.0 satuan, dan 5.0 satuan adalah 6.00 satuan luas.\n"
          ]
        }
      ]
    },
    {
      "cell_type": "code",
      "source": [
        "# DISKUSI 2: Luas Segitiga 3\n",
        "\n",
        "# Diberikan tuple berisi list sisi-sisi segitiga\n",
        "sisi = ([3, 4, 5], [6, 8, 10], [5, 12, 13], [15, 20, 25])\n",
        "\n",
        "# Fungsi untuk menghitung luas segitiga\n",
        "def hitung_luas_segitiga(sisi):\n",
        "    s = sum(sisi) / 2\n",
        "    luas = (s * (s - sisi[0]) * (s - sisi[1]) * (s - sisi[2])) ** 0.5\n",
        "    return int(luas)  # Mengembalikan luas sebagai bilangan bulat\n",
        "\n",
        "# Menghitung luas masing-masing segitiga dalam tuple\n",
        "Luas = tuple(hitung_luas_segitiga(s) for s in sisi)\n",
        "\n",
        "# Menampilkan hasil\n",
        "print(Luas)"
      ],
      "metadata": {
        "colab": {
          "base_uri": "https://localhost:8080/"
        },
        "id": "QCZqWz87H1fd",
        "outputId": "7c894017-5a5c-4c9e-a58a-3c7c7f58d2b0"
      },
      "execution_count": null,
      "outputs": [
        {
          "output_type": "stream",
          "name": "stdout",
          "text": [
            "(6, 24, 30, 150)\n"
          ]
        }
      ]
    },
    {
      "cell_type": "code",
      "source": [
        "# DISKUSI 2: Harga Promo\n",
        "import math\n",
        "\n",
        "# Meminta pengguna memasukkan harga pembelian dan ongkos kirim\n",
        "harga_pembelian = float(input(\"Masukkan harga pembelian (Rp): \"))\n",
        "ongkos_kirim = float(input(\"Masukkan ongkos kirim (Rp): \"))\n",
        "\n",
        "# Menghitung total pembelian\n",
        "total_pembelian = harga_pembelian + ongkos_kirim\n",
        "\n",
        "# Menghitung diskon 7%\n",
        "diskon = 7/100 * total_pembelian\n",
        "\n",
        "# Menghitung harga total setelah diskon\n",
        "harga_total_setelah_diskon = total_pembelian - diskon\n",
        "\n",
        "# Bulatkan harga total setelah diskon ke ratusan terdekat\n",
        "harga_total_bulat = round(harga_total_setelah_diskon, -2)\n",
        "\n",
        "# Menampilkan hasil\n",
        "print(f\"Total pembelian Anda Rp {total_pembelian}, cukup membayar Rp {harga_total_bulat}.\")\n"
      ],
      "metadata": {
        "colab": {
          "base_uri": "https://localhost:8080/"
        },
        "id": "w7OC_Z_KH2rC",
        "outputId": "6682fa7f-4190-40b1-8d8c-30580765ae0a"
      },
      "execution_count": null,
      "outputs": [
        {
          "output_type": "stream",
          "name": "stdout",
          "text": [
            "Masukkan harga pembelian (Rp): 20000\n",
            "Masukkan ongkos kirim (Rp): 6000\n",
            "Total pembelian Anda Rp 26000.0, cukup membayar Rp 24200.0.\n"
          ]
        }
      ]
    },
    {
      "cell_type": "markdown",
      "source": [
        "# **Algoritma dan Pemrogaman untuk Statistika, 5 Maret 2024**\n",
        "Diskusi 1"
      ],
      "metadata": {
        "id": "wysWLfJUGy9c"
      }
    },
    {
      "cell_type": "code",
      "source": [
        "#P1\n",
        "\n",
        "# Perhatikan beberapa objek berikut\n",
        "a1 = 3 # Bilangan bulat\n",
        "a2 = 0.1158 # Bilangan desimal\n",
        "a3 = 2 + 5j # Operasi bilangan\n",
        "a4 = 0b1001 # Bilangan biner\n",
        "a5 = 0o2145 # Bilangan oktal\n",
        "\n",
        "# a. Menentukan tipe dari masing-masing objek\n",
        "type(a1)\n",
        "type(a2)\n",
        "type(a3)\n",
        "type(a4)\n",
        "type(a5)\n",
        "\n",
        "# b. Menampilkan objek dengan perintah\n",
        "print(\"Menampilkan objek dengan perintah print\")\n",
        "print(\"Nilai a1 adalah\", a1, \"dengan tipe data\", type(a1))\n",
        "print(\"Nilai a2 adalah\", a2, \"dengan tipe data\", type(a2))\n",
        "print(\"Nilai a3 adalah\", a3, \"dengan tipe data\", type(a3))\n",
        "print(\"Nilai a4 adalah\", a4, \"dengan tipe data\", type(a4))\n",
        "print(\"Nilai a5 adalah\", a5, \"dengan tipe data\", type(a5))\n",
        "\n",
        "# Perbedaannya terletak pada tipe data, yaitu:\n",
        "# Objek a1 bertipe integer karena bilangan bulat.\n",
        "# Objek a2 bertipe float karena bilangan desimal.\n",
        "# Objek a3 bertipe complex karena merupakan operasi bilangan kompleks, 2 adalah integer, sedangkan 5j bukan integer dan tidak bisa dioperasikan karena kita tidak tahu nilai j-nya.\n",
        "# Objek a4 bertipe integer karena bilangan biner yang merupakan bilangan bulat.\n",
        "# Objek a5 bertipe integer karena bilangan oktal yang merupakan bilangan bulat.\n",
        "\n",
        "# c. Menampilkan hasil jumlahan dari beberapa objek\n",
        "print(\"Menampilkan hasil jumlahan dari beberapa objek\")\n",
        "penjumlahan_1 = a3 + a4\n",
        "penjumlahan_2 = a1 + a2\n",
        "penjumlahan_3 = a4 + a5\n",
        "penjumlahan_4 = a2 + a5\n",
        "print(\"a3 + a4 =\", penjumlahan_1, \"tipe data dari hasil penjumlahan tersebut adalah\", type(penjumlahan_1))\n",
        "print(\"a1 + a2 =\", penjumlahan_2, \"tipe data dari hasil penjumlahan tersebut adalah\", type(penjumlahan_2))\n",
        "print(\"a4 + a5 =\", penjumlahan_3, \"tipe data dari hasil penjumlahan tersebut adalah\", type(penjumlahan_3))\n",
        "print(\"a2 + a5 =\", penjumlahan_4, \"tipe data dari hasil penjumlahan tersebut adalah\", type(penjumlahan_4))"
      ],
      "metadata": {
        "colab": {
          "base_uri": "https://localhost:8080/"
        },
        "id": "jleRvIrDG5Hb",
        "outputId": "3947d359-a08a-42c6-980f-25b573f7f285"
      },
      "execution_count": null,
      "outputs": [
        {
          "output_type": "stream",
          "name": "stdout",
          "text": [
            "Menampilkan objek dengan perintah print\n",
            "Nilai a1 adalah 3 dengan tipe data <class 'int'>\n",
            "Nilai a2 adalah 0.1158 dengan tipe data <class 'float'>\n",
            "Nilai a3 adalah (2+5j) dengan tipe data <class 'complex'>\n",
            "Nilai a4 adalah 9 dengan tipe data <class 'int'>\n",
            "Nilai a5 adalah 1125 dengan tipe data <class 'int'>\n",
            "Menampilkan hasil jumlahan dari beberapa objek\n",
            "a3 + a4 = (11+5j) tipe data dari hasil penjumlahan tersebut adalah <class 'complex'>\n",
            "a1 + a2 = 3.1158 tipe data dari hasil penjumlahan tersebut adalah <class 'float'>\n",
            "a4 + a5 = 1134 tipe data dari hasil penjumlahan tersebut adalah <class 'int'>\n",
            "a2 + a5 = 1125.1158 tipe data dari hasil penjumlahan tersebut adalah <class 'float'>\n"
          ]
        }
      ]
    },
    {
      "cell_type": "code",
      "source": [
        "#P2\n",
        "A = (\"jeruk\", \"apel\", \"mangga\", 2, 5, 5, 1) # tuple\n",
        "B = [\"singa\", \"monyet\", \"kucing\", 6,1,9,6]  # list\n",
        "\n",
        "print(\"anggota list A =\", list(A))\n",
        "print(\"anggota set A =\", set(A))\n",
        "\n",
        "print(\"anggota tuple B =\", tuple(B))\n",
        "print(\"anggota set B =\", set(B))\n",
        "\n",
        "angka_A = A[3:7]\n",
        "angka_B = B[3:7]\n",
        "\n",
        "hasil_jumlah = [x+y for x, y in zip(angka_A, angka_B)]\n",
        "\n",
        "print(\"Elemen angka dari A:\", angka_A)\n",
        "print(\"Elemen angka dari B:\", angka_B)\n",
        "print(\"Hasil jumlah elemen angka A dan B untuk setiap indeks:\", hasil_jumlah)"
      ],
      "metadata": {
        "colab": {
          "base_uri": "https://localhost:8080/"
        },
        "id": "LfY0VmSXHTSm",
        "outputId": "79aaa1be-2a97-4637-de50-c7c80afeb65d"
      },
      "execution_count": null,
      "outputs": [
        {
          "output_type": "stream",
          "name": "stdout",
          "text": [
            "anggota list A = ['jeruk', 'apel', 'mangga', 2, 5, 5, 1]\n",
            "anggota set A = {1, 2, 5, 'apel', 'mangga', 'jeruk'}\n",
            "anggota tuple B = ('singa', 'monyet', 'kucing', 6, 1, 9, 6)\n",
            "anggota set B = {1, 6, 9, 'monyet', 'singa', 'kucing'}\n",
            "Elemen angka dari A: (2, 5, 5, 1)\n",
            "Elemen angka dari B: [6, 1, 9, 6]\n",
            "Hasil jumlah elemen angka A dan B untuk setiap indeks: [8, 6, 14, 7]\n"
          ]
        }
      ]
    },
    {
      "cell_type": "code",
      "source": [
        "#P3\n",
        "\n",
        "# 1. List dengan elemen bilangan bulat, bilangan kompleks, dan string\n",
        "list_P3 = [3, 8+5j, \"hello\"]\n",
        "print(\"List nomor 1:\", list_P3)\n",
        "\n",
        "# Uji dengan mengambil elemen dan mengalikannya\n",
        "hasil_perkalian_P3 = list_P3[0]*list_P3[2]\n",
        "print(\"Hasil perkalian:\", hasil_perkalian_P3)\n",
        "print(\"Tipe data hasil perkalian:\", type(hasil_perkalian_P3))\n",
        "\n",
        "# 2. Tuple dengan elemen bilangan bulat, bilangan kompleks, dan string\n",
        "tuple_P3 = (4, 3-2j, \"world\")\n",
        "print(\"Tuple nomor 2:\", tuple_P3)\n",
        "\n",
        "# Uji dengan mengambil elemen dan menjumlahkannya\n",
        "hasil_penjumlahan_P3 = list_P3[0]*list_P3[2]\n",
        "print(\"Hasil penjumlahan:\", hasil_penjumlahan_P3)\n",
        "print(\"Tipe data hasil penjumlahan:\", type(hasil_penjumlahan_P3))"
      ],
      "metadata": {
        "colab": {
          "base_uri": "https://localhost:8080/"
        },
        "id": "zm3fzH7tHV52",
        "outputId": "93271aa3-194d-4b7b-8b01-9df0b87f7901"
      },
      "execution_count": null,
      "outputs": [
        {
          "output_type": "stream",
          "name": "stdout",
          "text": [
            "List nomor 1: [3, (8+5j), 'hello']\n",
            "Hasil perkalian: hellohellohello\n",
            "Tipe data hasil perkalian: <class 'str'>\n",
            "Tuple nomor 2: (4, (3-2j), 'world')\n",
            "Hasil penjumlahan: hellohellohello\n",
            "Tipe data hasil penjumlahan: <class 'str'>\n"
          ]
        }
      ]
    },
    {
      "cell_type": "code",
      "source": [
        "#P4\n",
        "\n",
        "\n",
        "# Dimiliki sejumlah list berikut.\n",
        "A = [2, 5, 5]\n",
        "B = [1, 9, 6]\n",
        "C = [\"jeruk\", \"apel\", \"mangga\"]\n",
        "\n",
        "# 1. Menambahkan angka 9 sebagai elemen terakhir dari list A menggunakan append\n",
        "A.append(9)\n",
        "print(\"Jawaban nomor 1:\", A)\n",
        "\n",
        "# 2. Menambahkan \"melon\" sebagai elemen pertama dari list C menggunakan insert\n",
        "C.insert(0, \"melon\")\n",
        "print(\"Jawaban nomor 2:\", C)\n",
        "\n",
        "# 3. Mengganti \"jeruk\" pada list C menjadi \"pepaya\" dengan mengganti nilai pada index yang bersangkutan\n",
        "index_jeruk = C.index(\"jeruk\")\n",
        "C[index_jeruk] = \"pepaya\"\n",
        "print(\"Jawaban nomor 3:\", C)\n",
        "\n",
        "# 4. Menghapus \"apel\" pada list C menggunakan remove\n",
        "C.remove(\"apel\")\n",
        "print(\"Jawaban nomor 4:\", C)\n",
        "\n",
        "# 5. Bisa. Menyambung list A dan B menjadi satu list menggunakan operator '+'\n",
        "hasil_sambung_5 = A + B\n",
        "print(\"Jawaban nomor 5:\", hasil_sambung_5)\n",
        "\n",
        "# 6. Bisa. Berikut caranya.\n",
        "tuple(A) # Disini saya membuat A menjadi sebuah tuple\n",
        "list(B) # Disini saya membuat B menjadi sebuah list\n",
        "\n",
        "# tuple dan list adalah jenis data yang berbeda, tidak bisa disambung. Tetapi, kita dapat menyambungkannya dengan menyamakan jenis datanya. Misal saya mengubah B menjadi tuple juga agar bisa disambungkan.\n",
        "hasil_sambung_6 = tuple(A) + tuple(list(B))\n",
        "print(\"Jawaban nomor 6:\", hasil_sambung_6)"
      ],
      "metadata": {
        "colab": {
          "base_uri": "https://localhost:8080/"
        },
        "id": "nK6CkUeCHYg5",
        "outputId": "f3322fd4-8ac6-4b42-ae2d-0a71d26dd63f"
      },
      "execution_count": null,
      "outputs": [
        {
          "output_type": "stream",
          "name": "stdout",
          "text": [
            "Jawaban nomor 1: [2, 5, 5, 9]\n",
            "Jawaban nomor 2: ['melon', 'jeruk', 'apel', 'mangga']\n",
            "Jawaban nomor 3: ['melon', 'pepaya', 'apel', 'mangga']\n",
            "Jawaban nomor 4: ['melon', 'pepaya', 'mangga']\n",
            "Jawaban nomor 5: [2, 5, 5, 9, 1, 9, 6]\n",
            "Jawaban nomor 6: (2, 5, 5, 9, 1, 9, 6)\n"
          ]
        }
      ]
    },
    {
      "cell_type": "code",
      "source": [
        "#P5\n",
        "\n",
        "# 1. Buat tuple\n",
        "data = (23031030019, \"Sahda\", 3, 18.4)\n",
        "tuple_data = tuple(data)\n",
        "print(\"tuple data =\", tuple_data)\n",
        "\n",
        "# 2. Ubah tuple menjadi list\n",
        "list_data = list(data)\n",
        "print(\"list data =\", list_data)\n",
        "\n",
        "# 3. Ganti elemen yang dikehendaki pada list tersebut\n",
        "indeks_yang_diubah = 2\n",
        "elemen_baru = \"Huwaidah\"\n",
        "list_data[indeks_yang_diubah] = elemen_baru\n",
        "print(\"list data baru =\", list_data)\n",
        "\n",
        "# 4. Ubah list hasil perubahan menjadi tuple\n",
        "tuple(list_data)\n",
        "print(\"tuple data baru =\", tuple(list_data))"
      ],
      "metadata": {
        "colab": {
          "base_uri": "https://localhost:8080/"
        },
        "id": "jU-pte1xHZau",
        "outputId": "cc28fa4f-4169-4ae4-8697-b7c59fda35ff"
      },
      "execution_count": null,
      "outputs": [
        {
          "output_type": "stream",
          "name": "stdout",
          "text": [
            "tuple data = (23031030019, 'Sahda', 3, 18.4)\n",
            "list data = [23031030019, 'Sahda', 3, 18.4]\n",
            "list data baru = [23031030019, 'Sahda', 'Huwaidah', 18.4]\n",
            "tuple data baru = (23031030019, 'Sahda', 'Huwaidah', 18.4)\n"
          ]
        }
      ]
    }
  ]
}