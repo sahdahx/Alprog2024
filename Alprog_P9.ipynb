{
  "nbformat": 4,
  "nbformat_minor": 0,
  "metadata": {
    "colab": {
      "provenance": [],
      "authorship_tag": "ABX9TyMO7t8cCgJ+J9J5gQY6782t",
      "include_colab_link": true
    },
    "kernelspec": {
      "name": "python3",
      "display_name": "Python 3"
    },
    "language_info": {
      "name": "python"
    }
  },
  "cells": [
    {
      "cell_type": "markdown",
      "metadata": {
        "id": "view-in-github",
        "colab_type": "text"
      },
      "source": [
        "<a href=\"https://colab.research.google.com/github/sahdahx/Alprog2024/blob/main/Alprog_P9.ipynb\" target=\"_parent\"><img src=\"https://colab.research.google.com/assets/colab-badge.svg\" alt=\"Open In Colab\"/></a>"
      ]
    },
    {
      "cell_type": "markdown",
      "source": [
        "# **Algoritma dan Pemrogaman untuk Statistika, 7 Mei 2024**\n",
        "Tugas kelompok 2"
      ],
      "metadata": {
        "id": "1aY7cfB3RF-2"
      }
    },
    {
      "cell_type": "code",
      "execution_count": null,
      "metadata": {
        "id": "yIUIQ5f5Qz9k"
      },
      "outputs": [],
      "source": [
        "# NOMOR 2\n",
        "\n",
        "from datetime import datetime\n",
        "\n",
        "def usia_asn(nip):\n",
        "    nip_str = str(nip)\n",
        "\n",
        "    if len(nip_str) != 18:\n",
        "        return \"Pesan kesalahan: Jumlah digit NIP tidak sesuai.\"\n",
        "\n",
        "    try:\n",
        "        tahun_lahir = int(nip_str[:4])\n",
        "        bulan_lahir = int(nip_str[4:6])\n",
        "        tanggal_lahir = int(nip_str[6:8])\n",
        "\n",
        "        tanggal_lahir_asn = datetime(tahun_lahir, bulan_lahir, tanggal_lahir)\n",
        "    except ValueError:\n",
        "        return \"Pesan kesalahan: Format tanggal lahir pada NIP tidak valid.\"\n",
        "\n",
        "    today = datetime.today()\n",
        "    usia = today.year - tanggal_lahir_asn.year\n",
        "\n",
        "    if (today.month, today.day) < (tanggal_lahir_asn.month, tanggal_lahir_asn.day):\n",
        "        usia -= 1\n",
        "\n",
        "    return f\"ASN tersebut berusia {usia} tahun.\"\n",
        "\n",
        "# Contoh penggunaan\n",
        "print(usia_asn(199301212019031010))"
      ]
    }
  ]
}